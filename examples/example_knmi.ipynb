{
 "cells": [
  {
   "cell_type": "markdown",
   "metadata": {},
   "source": [
    "# Evaporation from KNMI data\n",
    "*R.A. Collenteur, University of Graz, 2020*\n",
    "\n",
    "In this notebook it is shown how to compute (potential) evaporation from meteorological data observed by the KNMI at De Bilt in the Netherlands."
   ]
  },
  {
   "cell_type": "code",
   "execution_count": 30,
   "metadata": {},
   "outputs": [],
   "source": [
    "import pandas as pd\n",
    "import matplotlib.pyplot as plt\n",
    "\n",
    "import pyet as pyet"
   ]
  },
  {
   "cell_type": "markdown",
   "metadata": {},
   "source": [
    "## 1. Load KNMI Data\n",
    "\n",
    "\n",
    "- DDVEC     = Vectorgemiddelde windrichting in graden (360=noord, 90=oost, 180=zuid, 270=west, 0=windstil/variabel). Zie http://www.knmi.nl/kennis-en-datacentrum/achtergrond/klimatologische-brochures-en-boeken / Vector mean wind direction in degrees (360=north, 90=east, 180=south, 270=west, 0=calm/variable)\n",
    "- FHVEC     = Vectorgemiddelde windsnelheid (in 0.1 m/s). Zie http://www.knmi.nl/kennis-en-datacentrum/achtergrond/klimatologische-brochures-en-boeken / Vector mean windspeed (in 0.1 m/s)\n",
    "- FG        = Etmaalgemiddelde windsnelheid (in 0.1 m/s) / Daily mean windspeed (in 0.1 m/s) \n",
    "- FHX       = Hoogste uurgemiddelde windsnelheid (in 0.1 m/s) / Maximum hourly mean windspeed (in 0.1 m/s)\n",
    "- FHXH      = Uurvak waarin FHX is gemeten / Hourly division in which FHX was measured\n",
    "- FHN       = Laagste uurgemiddelde windsnelheid (in 0.1 m/s) / Minimum hourly mean windspeed (in 0.1 m/s)\n",
    "- FHNH      = Uurvak waarin FHN is gemeten / Hourly division in which FHN was measured\n",
    "- FXX       = Hoogste windstoot (in 0.1 m/s) / Maximum wind gust (in 0.1 m/s)\n",
    "- FXXH      = Uurvak waarin FXX is gemeten / Hourly division in which FXX was measured\n",
    "- TG        = Etmaalgemiddelde temperatuur (in 0.1 graden Celsius) / Daily mean temperature in (0.1 degrees Celsius)\n",
    "- TN        = Minimum temperatuur (in 0.1 graden Celsius) / Minimum temperature (in 0.1 degrees Celsius)\n",
    "- TNH       = Uurvak waarin TN is gemeten / Hourly division in which TN was measured\n",
    "- TX        = Maximum temperatuur (in 0.1 graden Celsius) / Maximum temperature (in 0.1 degrees Celsius)\n",
    "- TXH       = Uurvak waarin TX is gemeten / Hourly division in which TX was measured\n",
    "- T10N      = Minimum temperatuur op 10 cm hoogte (in 0.1 graden Celsius) / Minimum temperature at 10 cm above surface (in 0.1 degrees Celsius)\n",
    "- T10NH     = 6-uurs tijdvak waarin T10N is gemeten / 6-hourly division in which T10N was measured; 6=0-6 UT, 12=6-12 UT, 18=12-18 UT, 24=18-24 UT \n",
    "- SQ        = Zonneschijnduur (in 0.1 uur) berekend uit de globale straling (-1 voor <0.05 uur) / Sunshine duration (in 0.1 hour) calculated from global radiation (-1 for <0.05 hour)\n",
    "- SP        = Percentage van de langst mogelijke zonneschijnduur / Percentage of maximum potential sunshine duration\n",
    "- Q         = Globale straling (in J/cm2) / Global radiation (in J/cm2)\n",
    "- DR        = Duur van de neerslag (in 0.1 uur) / Precipitation duration (in 0.1 hour)\n",
    "- RH        = Etmaalsom van de neerslag (in 0.1 mm) (-1 voor <0.05 mm) / Daily precipitation amount (in 0.1 mm) (-1 for <0.05 mm)\n",
    "- RHX       = Hoogste uursom van de neerslag (in 0.1 mm) (-1 voor <0.05 mm) / Maximum hourly precipitation amount (in 0.1 mm) (-1 for <0.05 mm)\n",
    "- RHXH      = Uurvak waarin RHX is gemeten / Hourly division in which RHX was measured\n",
    "- PG        = Etmaalgemiddelde luchtdruk herleid tot zeeniveau (in 0.1 hPa) berekend uit 24 uurwaarden / Daily mean sea level pressure (in 0.1 hPa) calculated from 24 hourly values\n",
    "- PX        = Hoogste uurwaarde van de luchtdruk herleid tot zeeniveau (in 0.1 hPa) / Maximum hourly sea level pressure (in 0.1 hPa)\n",
    "- PXH       = Uurvak waarin PX is gemeten / Hourly division in which PX was measured\n",
    "- PN        = Laagste uurwaarde van de luchtdruk herleid tot zeeniveau (in 0.1 hPa) / Minimum hourly sea level pressure (in 0.1 hPa)\n",
    "- PNH       = Uurvak waarin PN is gemeten / Hourly division in which PN was measured\n",
    "- VVN       = Minimum opgetreden zicht / Minimum visibility; 0: <100 m, 1:100-200 m, 2:200-300 m,..., 49:4900-5000 m, 50:5-6 km, 56:6-7 km, 57:7-8 km,..., 79:29-30 km, 80:30-35 km, 81:35-40 km,..., 89: >70 km)\n",
    "- VVNH      = Uurvak waarin VVN is gemeten / Hourly division in which VVN was measured\n",
    "- VVX       = Maximum opgetreden zicht / Maximum visibility; 0: <100 m, 1:100-200 m, 2:200-300 m,..., 49:4900-5000 m, 50:5-6 km, 56:6-7 km, 57:7-8 km,..., 79:29-30 km, 80:30-35 km, 81:35-40 km,..., 89: >70 km)\n",
    "- VVXH      = Uurvak waarin VVX is gemeten / Hourly division in which VVX was measured\n",
    "- NG        = Etmaalgemiddelde bewolking (bedekkingsgraad van de bovenlucht in achtsten, 9=bovenlucht onzichtbaar) / Mean daily cloud cover (in octants, 9=sky invisible)\n",
    "- UG        = Etmaalgemiddelde relatieve vochtigheid (in procenten) / Daily mean relative atmospheric humidity (in percents)\n",
    "- UX        = Maximale relatieve vochtigheid (in procenten) / Maximum relative atmospheric humidity (in percents)\n",
    "- UXH       = Uurvak waarin UX is gemeten / Hourly division in which UX was measured\n",
    "- UN        = Minimale relatieve vochtigheid (in procenten) / Minimum relative atmospheric humidity (in percents)\n",
    "- UNH       = Uurvak waarin UN is gemeten / Hourly division in which UN was measured\n",
    "- EV24      = Referentiegewasverdamping (Makkink) (in 0.1 mm) / Potential evapotranspiration (Makkink) (in 0.1 mm)"
   ]
  },
  {
   "cell_type": "code",
   "execution_count": 21,
   "metadata": {},
   "outputs": [
    {
     "data": {
      "text/html": [
       "<div>\n",
       "<style scoped>\n",
       "    .dataframe tbody tr th:only-of-type {\n",
       "        vertical-align: middle;\n",
       "    }\n",
       "\n",
       "    .dataframe tbody tr th {\n",
       "        vertical-align: top;\n",
       "    }\n",
       "\n",
       "    .dataframe thead th {\n",
       "        text-align: right;\n",
       "    }\n",
       "</style>\n",
       "<table border=\"1\" class=\"dataframe\">\n",
       "  <thead>\n",
       "    <tr style=\"text-align: right;\">\n",
       "      <th></th>\n",
       "      <th># STN</th>\n",
       "      <th>DDVEC</th>\n",
       "      <th>FHVEC</th>\n",
       "      <th>FG</th>\n",
       "      <th>FHX</th>\n",
       "      <th>FHXH</th>\n",
       "      <th>FHN</th>\n",
       "      <th>FHNH</th>\n",
       "      <th>FXX</th>\n",
       "      <th>FXXH</th>\n",
       "      <th>...</th>\n",
       "      <th>VVNH</th>\n",
       "      <th>VVX</th>\n",
       "      <th>VVXH</th>\n",
       "      <th>NG</th>\n",
       "      <th>UG</th>\n",
       "      <th>UX</th>\n",
       "      <th>UXH</th>\n",
       "      <th>UN</th>\n",
       "      <th>UNH</th>\n",
       "      <th>EV24</th>\n",
       "    </tr>\n",
       "    <tr>\n",
       "      <th>YYYYMMDD</th>\n",
       "      <th></th>\n",
       "      <th></th>\n",
       "      <th></th>\n",
       "      <th></th>\n",
       "      <th></th>\n",
       "      <th></th>\n",
       "      <th></th>\n",
       "      <th></th>\n",
       "      <th></th>\n",
       "      <th></th>\n",
       "      <th></th>\n",
       "      <th></th>\n",
       "      <th></th>\n",
       "      <th></th>\n",
       "      <th></th>\n",
       "      <th></th>\n",
       "      <th></th>\n",
       "      <th></th>\n",
       "      <th></th>\n",
       "      <th></th>\n",
       "      <th></th>\n",
       "    </tr>\n",
       "  </thead>\n",
       "  <tbody>\n",
       "    <tr>\n",
       "      <th>1980-01-01</th>\n",
       "      <td>260</td>\n",
       "      <td>275</td>\n",
       "      <td>21</td>\n",
       "      <td>26</td>\n",
       "      <td>46</td>\n",
       "      <td>1</td>\n",
       "      <td>10</td>\n",
       "      <td>9</td>\n",
       "      <td>98.0</td>\n",
       "      <td>1.0</td>\n",
       "      <td>...</td>\n",
       "      <td>8.0</td>\n",
       "      <td>75.0</td>\n",
       "      <td>10.0</td>\n",
       "      <td>5.0</td>\n",
       "      <td>93</td>\n",
       "      <td>100</td>\n",
       "      <td>23</td>\n",
       "      <td>85</td>\n",
       "      <td>17</td>\n",
       "      <td>3</td>\n",
       "    </tr>\n",
       "    <tr>\n",
       "      <th>1980-01-02</th>\n",
       "      <td>260</td>\n",
       "      <td>314</td>\n",
       "      <td>15</td>\n",
       "      <td>15</td>\n",
       "      <td>26</td>\n",
       "      <td>1</td>\n",
       "      <td>10</td>\n",
       "      <td>4</td>\n",
       "      <td>77.0</td>\n",
       "      <td>12.0</td>\n",
       "      <td>...</td>\n",
       "      <td>12.0</td>\n",
       "      <td>70.0</td>\n",
       "      <td>1.0</td>\n",
       "      <td>4.0</td>\n",
       "      <td>95</td>\n",
       "      <td>99</td>\n",
       "      <td>8</td>\n",
       "      <td>86</td>\n",
       "      <td>2</td>\n",
       "      <td>3</td>\n",
       "    </tr>\n",
       "    <tr>\n",
       "      <th>1980-01-03</th>\n",
       "      <td>260</td>\n",
       "      <td>171</td>\n",
       "      <td>21</td>\n",
       "      <td>26</td>\n",
       "      <td>62</td>\n",
       "      <td>24</td>\n",
       "      <td>0</td>\n",
       "      <td>3</td>\n",
       "      <td>103.0</td>\n",
       "      <td>23.0</td>\n",
       "      <td>...</td>\n",
       "      <td>8.0</td>\n",
       "      <td>70.0</td>\n",
       "      <td>4.0</td>\n",
       "      <td>6.0</td>\n",
       "      <td>97</td>\n",
       "      <td>99</td>\n",
       "      <td>2</td>\n",
       "      <td>89</td>\n",
       "      <td>21</td>\n",
       "      <td>1</td>\n",
       "    </tr>\n",
       "    <tr>\n",
       "      <th>1980-01-04</th>\n",
       "      <td>260</td>\n",
       "      <td>182</td>\n",
       "      <td>46</td>\n",
       "      <td>51</td>\n",
       "      <td>67</td>\n",
       "      <td>1</td>\n",
       "      <td>26</td>\n",
       "      <td>20</td>\n",
       "      <td>118.0</td>\n",
       "      <td>1.0</td>\n",
       "      <td>...</td>\n",
       "      <td>23.0</td>\n",
       "      <td>58.0</td>\n",
       "      <td>6.0</td>\n",
       "      <td>8.0</td>\n",
       "      <td>97</td>\n",
       "      <td>99</td>\n",
       "      <td>19</td>\n",
       "      <td>93</td>\n",
       "      <td>4</td>\n",
       "      <td>0</td>\n",
       "    </tr>\n",
       "    <tr>\n",
       "      <th>1980-01-05</th>\n",
       "      <td>260</td>\n",
       "      <td>203</td>\n",
       "      <td>36</td>\n",
       "      <td>36</td>\n",
       "      <td>46</td>\n",
       "      <td>12</td>\n",
       "      <td>26</td>\n",
       "      <td>1</td>\n",
       "      <td>87.0</td>\n",
       "      <td>9.0</td>\n",
       "      <td>...</td>\n",
       "      <td>2.0</td>\n",
       "      <td>56.0</td>\n",
       "      <td>17.0</td>\n",
       "      <td>8.0</td>\n",
       "      <td>97</td>\n",
       "      <td>99</td>\n",
       "      <td>22</td>\n",
       "      <td>94</td>\n",
       "      <td>15</td>\n",
       "      <td>1</td>\n",
       "    </tr>\n",
       "  </tbody>\n",
       "</table>\n",
       "<p>5 rows × 40 columns</p>\n",
       "</div>"
      ],
      "text/plain": [
       "            # STN  DDVEC  FHVEC  FG  FHX  FHXH  FHN  FHNH    FXX  FXXH  ...  \\\n",
       "YYYYMMDD                                                                ...   \n",
       "1980-01-01    260    275     21  26   46     1   10     9   98.0   1.0  ...   \n",
       "1980-01-02    260    314     15  15   26     1   10     4   77.0  12.0  ...   \n",
       "1980-01-03    260    171     21  26   62    24    0     3  103.0  23.0  ...   \n",
       "1980-01-04    260    182     46  51   67     1   26    20  118.0   1.0  ...   \n",
       "1980-01-05    260    203     36  36   46    12   26     1   87.0   9.0  ...   \n",
       "\n",
       "            VVNH   VVX  VVXH   NG  UG   UX  UXH  UN  UNH  EV24  \n",
       "YYYYMMDD                                                        \n",
       "1980-01-01   8.0  75.0  10.0  5.0  93  100   23  85   17     3  \n",
       "1980-01-02  12.0  70.0   1.0  4.0  95   99    8  86    2     3  \n",
       "1980-01-03   8.0  70.0   4.0  6.0  97   99    2  89   21     1  \n",
       "1980-01-04  23.0  58.0   6.0  8.0  97   99   19  93    4     0  \n",
       "1980-01-05   2.0  56.0  17.0  8.0  97   99   22  94   15     1  \n",
       "\n",
       "[5 rows x 40 columns]"
      ]
     },
     "execution_count": 21,
     "metadata": {},
     "output_type": "execute_result"
    }
   ],
   "source": [
    "data = pd.read_csv(\"data/etmgeg_260.txt\", skiprows=46, delimiter=\",\", \n",
    "                   skipinitialspace=True, index_col=\"YYYYMMDD\", parse_dates=True)\n",
    "data.head()"
   ]
  },
  {
   "cell_type": "code",
   "execution_count": 22,
   "metadata": {},
   "outputs": [],
   "source": [
    "tmean = data.TG/10\n",
    "tmax = data.TX/10\n",
    "tmin = data.TN/10\n",
    "rh = data.UG\n",
    "Rs = data.Q * 10000 / 1000000  # J/cm2 to MJ/m2\n",
    "pressure =  data.PG / 100 # to kPa\n",
    "wind = data.FG/10  # to m/s"
   ]
  },
  {
   "cell_type": "markdown",
   "metadata": {},
   "source": [
    "## 2. Makkink evaporation"
   ]
  },
  {
   "cell_type": "code",
   "execution_count": 23,
   "metadata": {},
   "outputs": [
    {
     "data": {
      "image/png": "[encoded data removed]",
      "text/plain": [
       "<Figure size 720x144 with 1 Axes>"
      ]
     },
     "metadata": {
      "needs_background": "light"
     },
     "output_type": "display_data"
    }
   ],
   "source": [
    "et_makkink = pyet.makkink(Rs, tmean=tmean, pressure=pressure)\n",
    "et_makkink.plot(figsize=(10,2));"
   ]
  },
  {
   "cell_type": "code",
   "execution_count": 24,
   "metadata": {},
   "outputs": [
    {
     "data": {
      "image/png": "[encoded data removed]",
      "text/plain": [
       "<Figure size 720x144 with 1 Axes>"
      ]
     },
     "metadata": {
      "needs_background": "light"
     },
     "output_type": "display_data"
    }
   ],
   "source": [
    "(data.EV24 / 10).plot(figsize=(10,2));"
   ]
  },
  {
   "cell_type": "code",
   "execution_count": 27,
   "metadata": {},
   "outputs": [
    {
     "data": {
      "text/plain": [
       "[<matplotlib.lines.Line2D at 0x1849538b700>]"
      ]
     },
     "execution_count": 27,
     "metadata": {},
     "output_type": "execute_result"
    },
    {
     "data": {
      "image/png": "[encoded data removed]",
      "text/plain": [
       "<Figure size 432x288 with 1 Axes>"
      ]
     },
     "metadata": {
      "needs_background": "light"
     },
     "output_type": "display_data"
    }
   ],
   "source": [
    "plt.scatter((data.EV24 / 10), et_makkink)\n",
    "plt.plot([0,6], [0,6], \"red\")"
   ]
  },
  {
   "cell_type": "markdown",
   "metadata": {},
   "source": [
    "Slight deviation due to different calculation of the Psychrometric constant and Specific heat of air"
   ]
  },
  {
   "cell_type": "markdown",
   "metadata": {},
   "source": [
    "## 3. Penman-Monteith"
   ]
  }
 ],
 "metadata": {
  "kernelspec": {
   "display_name": "Python 3",
   "language": "python",
   "name": "python3"
  },
  "language_info": {
   "codemirror_mode": {
    "name": "ipython",
    "version": 3
   },
   "file_extension": ".py",
   "mimetype": "text/x-python",
   "name": "python",
   "nbconvert_exporter": "python",
   "pygments_lexer": "ipython3",
   "version": "3.8.3"
  }
 },
 "nbformat": 4,
 "nbformat_minor": 5
}
