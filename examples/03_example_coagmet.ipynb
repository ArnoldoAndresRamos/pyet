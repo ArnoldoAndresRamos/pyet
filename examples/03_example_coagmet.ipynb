{
 "cells": [
  {
   "cell_type": "markdown",
   "metadata": {},
   "source": [
    "# Evaporation from CoAgMET data\n",
    "*M. Vremec, University of Graz, 2021*\n",
    "\n",
    "In this notebook it is shown how to compute (reference) evaporation ($E_0$) from meteorological data observed by the Colorado State University (CoAgMET) at Holyoke in Colorado, USA. The notebook also includes a comparison between $E_0$ estimated using *pyet* (FAO56) and $E_0$ available from CoAgMET. According to CoAgMET documentation, the provided reference evaporation is estimated using ASCE reference evaporation for short reference grass (Wright, 2000), which corresponds to the FAO-56 method used with *pyet*.\n",
    "\n",
    "Source: https://coagmet.colostate.edu/station/selector"
   ]
  },
  {
   "cell_type": "code",
   "execution_count": 1,
   "metadata": {},
   "outputs": [
    {
     "name": "stdout",
     "output_type": "stream",
     "text": [
      "Python version: 3.8.2 (default, Mar 25 2020, 11:22:43) \n",
      "[Clang 4.0.1 (tags/RELEASE_401/final)]\n",
      "Numpy version: 1.20.2\n",
      "Scipy version: 1.6.2\n",
      "Pandas version: 1.3.1\n",
      "Matplotlib version: 3.3.4\n",
      "Pyet version: 1.0.1b\n"
     ]
    }
   ],
   "source": [
    "import numpy as np\n",
    "import pandas as pd\n",
    "import matplotlib.pyplot as plt\n",
    "\n",
    "import pyet as pyet\n",
    "pyet.show_versions()"
   ]
  },
  {
   "cell_type": "markdown",
   "metadata": {},
   "source": [
    "## 1. Load CoAgMET Data"
   ]
  },
  {
   "cell_type": "code",
   "execution_count": 2,
   "metadata": {},
   "outputs": [
    {
     "data": {
      "text/html": [
       "<div>\n",
       "<style scoped>\n",
       "    .dataframe tbody tr th:only-of-type {\n",
       "        vertical-align: middle;\n",
       "    }\n",
       "\n",
       "    .dataframe tbody tr th {\n",
       "        vertical-align: top;\n",
       "    }\n",
       "\n",
       "    .dataframe thead th {\n",
       "        text-align: right;\n",
       "    }\n",
       "</style>\n",
       "<table border=\"1\" class=\"dataframe\">\n",
       "  <thead>\n",
       "    <tr style=\"text-align: right;\">\n",
       "      <th></th>\n",
       "      <th>name</th>\n",
       "      <th>tavg</th>\n",
       "      <th>tmax</th>\n",
       "      <th>tmin</th>\n",
       "      <th>rhmax</th>\n",
       "      <th>rhmin</th>\n",
       "      <th>solar</th>\n",
       "      <th>windrun</th>\n",
       "      <th>et_asce</th>\n",
       "      <th>et_pk</th>\n",
       "      <th>et_asce0</th>\n",
       "    </tr>\n",
       "    <tr>\n",
       "      <th>date</th>\n",
       "      <th></th>\n",
       "      <th></th>\n",
       "      <th></th>\n",
       "      <th></th>\n",
       "      <th></th>\n",
       "      <th></th>\n",
       "      <th></th>\n",
       "      <th></th>\n",
       "      <th></th>\n",
       "      <th></th>\n",
       "      <th></th>\n",
       "    </tr>\n",
       "  </thead>\n",
       "  <tbody>\n",
       "    <tr>\n",
       "      <th>2020-01-01</th>\n",
       "      <td>hyk02</td>\n",
       "      <td>-0.8</td>\n",
       "      <td>9.4</td>\n",
       "      <td>-8.9</td>\n",
       "      <td>0.929</td>\n",
       "      <td>0.470</td>\n",
       "      <td>63.1</td>\n",
       "      <td>203.1</td>\n",
       "      <td>1.9</td>\n",
       "      <td>1.9</td>\n",
       "      <td>1.2</td>\n",
       "    </tr>\n",
       "    <tr>\n",
       "      <th>2020-01-02</th>\n",
       "      <td>hyk02</td>\n",
       "      <td>0.8</td>\n",
       "      <td>7.2</td>\n",
       "      <td>-4.2</td>\n",
       "      <td>0.902</td>\n",
       "      <td>0.568</td>\n",
       "      <td>107.4</td>\n",
       "      <td>314.7</td>\n",
       "      <td>1.7</td>\n",
       "      <td>1.7</td>\n",
       "      <td>1.1</td>\n",
       "    </tr>\n",
       "    <tr>\n",
       "      <th>2020-01-03</th>\n",
       "      <td>hyk02</td>\n",
       "      <td>-0.4</td>\n",
       "      <td>5.0</td>\n",
       "      <td>-4.7</td>\n",
       "      <td>0.855</td>\n",
       "      <td>0.448</td>\n",
       "      <td>76.2</td>\n",
       "      <td>239.6</td>\n",
       "      <td>1.7</td>\n",
       "      <td>1.3</td>\n",
       "      <td>1.1</td>\n",
       "    </tr>\n",
       "    <tr>\n",
       "      <th>2020-01-04</th>\n",
       "      <td>hyk02</td>\n",
       "      <td>4.1</td>\n",
       "      <td>16.1</td>\n",
       "      <td>-4.8</td>\n",
       "      <td>0.893</td>\n",
       "      <td>0.224</td>\n",
       "      <td>97.6</td>\n",
       "      <td>253.7</td>\n",
       "      <td>4.0</td>\n",
       "      <td>1.7</td>\n",
       "      <td>2.4</td>\n",
       "    </tr>\n",
       "    <tr>\n",
       "      <th>2020-01-05</th>\n",
       "      <td>hyk02</td>\n",
       "      <td>0.5</td>\n",
       "      <td>8.2</td>\n",
       "      <td>-6.9</td>\n",
       "      <td>0.820</td>\n",
       "      <td>0.232</td>\n",
       "      <td>102.3</td>\n",
       "      <td>312.2</td>\n",
       "      <td>3.1</td>\n",
       "      <td>1.9</td>\n",
       "      <td>1.9</td>\n",
       "    </tr>\n",
       "    <tr>\n",
       "      <th>...</th>\n",
       "      <td>...</td>\n",
       "      <td>...</td>\n",
       "      <td>...</td>\n",
       "      <td>...</td>\n",
       "      <td>...</td>\n",
       "      <td>...</td>\n",
       "      <td>...</td>\n",
       "      <td>...</td>\n",
       "      <td>...</td>\n",
       "      <td>...</td>\n",
       "      <td>...</td>\n",
       "    </tr>\n",
       "    <tr>\n",
       "      <th>2020-12-27</th>\n",
       "      <td>hyk02</td>\n",
       "      <td>2.2</td>\n",
       "      <td>8.9</td>\n",
       "      <td>-6.2</td>\n",
       "      <td>0.967</td>\n",
       "      <td>0.318</td>\n",
       "      <td>98.6</td>\n",
       "      <td>324.5</td>\n",
       "      <td>2.8</td>\n",
       "      <td>1.6</td>\n",
       "      <td>1.7</td>\n",
       "    </tr>\n",
       "    <tr>\n",
       "      <th>2020-12-28</th>\n",
       "      <td>hyk02</td>\n",
       "      <td>-4.0</td>\n",
       "      <td>0.0</td>\n",
       "      <td>-10.1</td>\n",
       "      <td>0.994</td>\n",
       "      <td>0.878</td>\n",
       "      <td>26.2</td>\n",
       "      <td>248.3</td>\n",
       "      <td>0.4</td>\n",
       "      <td>0.6</td>\n",
       "      <td>0.3</td>\n",
       "    </tr>\n",
       "    <tr>\n",
       "      <th>2020-12-29</th>\n",
       "      <td>hyk02</td>\n",
       "      <td>-4.7</td>\n",
       "      <td>-1.1</td>\n",
       "      <td>-10.8</td>\n",
       "      <td>0.983</td>\n",
       "      <td>0.737</td>\n",
       "      <td>55.6</td>\n",
       "      <td>441.7</td>\n",
       "      <td>0.8</td>\n",
       "      <td>0.6</td>\n",
       "      <td>0.5</td>\n",
       "    </tr>\n",
       "    <tr>\n",
       "      <th>2020-12-30</th>\n",
       "      <td>hyk02</td>\n",
       "      <td>-8.4</td>\n",
       "      <td>2.2</td>\n",
       "      <td>-14.6</td>\n",
       "      <td>0.939</td>\n",
       "      <td>0.489</td>\n",
       "      <td>111.5</td>\n",
       "      <td>197.9</td>\n",
       "      <td>1.2</td>\n",
       "      <td>1.0</td>\n",
       "      <td>0.8</td>\n",
       "    </tr>\n",
       "    <tr>\n",
       "      <th>2020-12-31</th>\n",
       "      <td>hyk02</td>\n",
       "      <td>-6.3</td>\n",
       "      <td>3.4</td>\n",
       "      <td>-15.3</td>\n",
       "      <td>0.929</td>\n",
       "      <td>0.459</td>\n",
       "      <td>109.0</td>\n",
       "      <td>99.9</td>\n",
       "      <td>0.9</td>\n",
       "      <td>0.6</td>\n",
       "      <td>0.6</td>\n",
       "    </tr>\n",
       "  </tbody>\n",
       "</table>\n",
       "<p>366 rows × 11 columns</p>\n",
       "</div>"
      ],
      "text/plain": [
       "             name  tavg  tmax  tmin  rhmax  rhmin  solar  windrun  et_asce  \\\n",
       "date                                                                         \n",
       "2020-01-01  hyk02  -0.8   9.4  -8.9  0.929  0.470   63.1    203.1      1.9   \n",
       "2020-01-02  hyk02   0.8   7.2  -4.2  0.902  0.568  107.4    314.7      1.7   \n",
       "2020-01-03  hyk02  -0.4   5.0  -4.7  0.855  0.448   76.2    239.6      1.7   \n",
       "2020-01-04  hyk02   4.1  16.1  -4.8  0.893  0.224   97.6    253.7      4.0   \n",
       "2020-01-05  hyk02   0.5   8.2  -6.9  0.820  0.232  102.3    312.2      3.1   \n",
       "...           ...   ...   ...   ...    ...    ...    ...      ...      ...   \n",
       "2020-12-27  hyk02   2.2   8.9  -6.2  0.967  0.318   98.6    324.5      2.8   \n",
       "2020-12-28  hyk02  -4.0   0.0 -10.1  0.994  0.878   26.2    248.3      0.4   \n",
       "2020-12-29  hyk02  -4.7  -1.1 -10.8  0.983  0.737   55.6    441.7      0.8   \n",
       "2020-12-30  hyk02  -8.4   2.2 -14.6  0.939  0.489  111.5    197.9      1.2   \n",
       "2020-12-31  hyk02  -6.3   3.4 -15.3  0.929  0.459  109.0     99.9      0.9   \n",
       "\n",
       "            et_pk  et_asce0  \n",
       "date                         \n",
       "2020-01-01    1.9       1.2  \n",
       "2020-01-02    1.7       1.1  \n",
       "2020-01-03    1.3       1.1  \n",
       "2020-01-04    1.7       2.4  \n",
       "2020-01-05    1.9       1.9  \n",
       "...           ...       ...  \n",
       "2020-12-27    1.6       1.7  \n",
       "2020-12-28    0.6       0.3  \n",
       "2020-12-29    0.6       0.5  \n",
       "2020-12-30    1.0       0.8  \n",
       "2020-12-31    0.6       0.6  \n",
       "\n",
       "[366 rows x 11 columns]"
      ]
     },
     "execution_count": 2,
     "metadata": {},
     "output_type": "execute_result"
    }
   ],
   "source": [
    "data = pd.read_csv(\"data/et_coagmet.txt\", parse_dates=True, index_col=\"date\")\n",
    "data"
   ]
  },
  {
   "cell_type": "code",
   "execution_count": 3,
   "metadata": {},
   "outputs": [],
   "source": [
    "e0_coagmet = data[\"et_asce0\"]\n",
    "\n",
    "meteo = pd.DataFrame({\"tmean\":data[\"tavg\"], \n",
    "                      \"tmax\":data[\"tmax\"],\n",
    "                      \"tmin\":data[\"tmin\"], \n",
    "                      \"rhmax\":data[\"rhmax\"]*100,\n",
    "                      \"rhmin\":data[\"rhmin\"]*100, \n",
    "                      \"u2\":data[\"windrun\"]*1000/86400,\n",
    "                      \"rs\":data[\"solar\"]*86400/1000000})\n",
    "\n",
    "tmean, tmax, tmin, rhmax, rhmin, wind, rs = [meteo[col] for col in meteo.columns]\n",
    "lat = 40.49*np.pi/180"
   ]
  },
  {
   "cell_type": "markdown",
   "metadata": {},
   "source": [
    "## 2. Comparison: pyet FAO56 vs CoAgMET ASCE "
   ]
  },
  {
   "cell_type": "code",
   "execution_count": 4,
   "metadata": {},
   "outputs": [
    {
     "data": {
      "image/png": "[encoded data removed]",
      "text/plain": [
       "<Figure size 432x288 with 1 Axes>"
      ]
     },
     "metadata": {
      "needs_background": "light"
     },
     "output_type": "display_data"
    }
   ],
   "source": [
    "e0_fao56 = pyet.pm_fao56(tmean, wind, rs=rs, elevation=1138, lat=lat, \n",
    "                         tmax=tmax, tmin=tmin, rhmax=rhmax, rhmin=rhmin)\n",
    "\n",
    "e0_fao56.plot()\n",
    "e0_coagmet.plot();"
   ]
  },
  {
   "cell_type": "markdown",
   "metadata": {},
   "source": [
    "## 3. Plot the results\n",
    "\n",
    "We now plot the evaporation time series against each other to see how these compare. "
   ]
  },
  {
   "cell_type": "code",
   "execution_count": 5,
   "metadata": {},
   "outputs": [
    {
     "data": {
      "image/png": "[encoded data removed]",
      "text/plain": [
       "<Figure size 432x288 with 1 Axes>"
      ]
     },
     "metadata": {
      "needs_background": "light"
     },
     "output_type": "display_data"
    }
   ],
   "source": [
    "plt.scatter(e0_fao56, e0_coagmet)\n",
    "plt.plot([0,15],[0,15], color=\"red\", label=\"1:1 line\")\n",
    "plt.legend()\n",
    "plt.xlabel(\"E0 pyet-FAO56 [mm]\")\n",
    "plt.ylabel(\"E0 CoAgMET-ASCE [mm]\");"
   ]
  }
 ],
 "metadata": {
  "kernelspec": {
   "display_name": "Python 3",
   "language": "python",
   "name": "python3"
  },
  "language_info": {
   "codemirror_mode": {
    "name": "ipython",
    "version": 3
   },
   "file_extension": ".py",
   "mimetype": "text/x-python",
   "name": "python",
   "nbconvert_exporter": "python",
   "pygments_lexer": "ipython3",
   "version": "3.8.2"
  }
 },
 "nbformat": 4,
 "nbformat_minor": 4
}
